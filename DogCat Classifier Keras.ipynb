{
 "cells": [
  {
   "cell_type": "code",
   "execution_count": 61,
   "metadata": {},
   "outputs": [],
   "source": [
    "# Data is augmented while it actually consists of 3000 cat and dog images\n",
    "# For training, 1000 for each class will be used, while for testing/validation, 500 image for each\n",
    "# Dog as 1, Cat as 0 label"
   ]
  },
  {
   "cell_type": "code",
   "execution_count": null,
   "metadata": {},
   "outputs": [],
   "source": [
    "# Link for the dataset and trained model\n",
    "# https://www.kaggle.com/c/dogs-vs-cats/data?select=train.zip\n"
   ]
  },
  {
   "cell_type": "code",
   "execution_count": 19,
   "metadata": {},
   "outputs": [],
   "source": [
    "import cv2\n",
    "import numpy as np\n",
    "import sys\n",
    "import os\n",
    "import shutil\n",
    "import matplotlib.pyplot as plt"
   ]
  },
  {
   "cell_type": "code",
   "execution_count": 5,
   "metadata": {},
   "outputs": [],
   "source": [
    "dog_count = 0\n",
    "cat_count = 0\n",
    "training_size = 1000\n",
    "test_size = 500\n",
    "training_images = []\n",
    "training_labels = []\n",
    "test_images = []\n",
    "test_labels = []"
   ]
  },
  {
   "cell_type": "code",
   "execution_count": 7,
   "metadata": {},
   "outputs": [],
   "source": [
    "# Make directories\n",
    "dog_dir_train = \"./datasets/catdog/train/dogs/\"\n",
    "cat_dir_train = \"./datasets/catdog/train/cats/\"\n",
    "\n",
    "dog_dir_test = \"./datasets/catdog/validation/dogs/\"\n",
    "cat_dir_test = \"./datasets/catdog/validation/cats/\"\n",
    "\n",
    "def make_dir(directory):\n",
    "    if os.path.exists(directory):\n",
    "        shutil.rmtree(directory)\n",
    "    os.makedirs(directory)\n",
    "make_dir(dog_dir_train)\n",
    "make_dir(cat_dir_train)\n",
    "make_dir(dog_dir_test)\n",
    "make_dir(cat_dir_test)"
   ]
  },
  {
   "cell_type": "code",
   "execution_count": 8,
   "metadata": {},
   "outputs": [],
   "source": [
    "def get_zeros(number):\n",
    "    if (number > 10 and number < 100):\n",
    "        return \"0\"\n",
    "    if (number < 10):\n",
    "        return \"00\"\n",
    "    else:\n",
    "        return \"\""
   ]
  },
  {
   "cell_type": "code",
   "execution_count": 12,
   "metadata": {},
   "outputs": [
    {
     "name": "stdout",
     "output_type": "stream",
     "text": [
      "3002\n"
     ]
    }
   ],
   "source": [
    "# There are 3000 images\n",
    "from os import listdir\n",
    "from os.path import isfile, join\n",
    "\n",
    "my_path = \"./datasets/catdog/\"\n",
    "file_names = [f for f in listdir(my_path) if isfile(join(my_path,f))]\n",
    "print(str(len(file_names)))"
   ]
  },
  {
   "cell_type": "code",
   "execution_count": 13,
   "metadata": {},
   "outputs": [
    {
     "name": "stdout",
     "output_type": "stream",
     "text": [
      "Completed\n"
     ]
    }
   ],
   "source": [
    "# 1000 train, 500 test\n",
    "for i, file in enumerate(file_names):\n",
    "    if file_names[i][0] == \"d\":\n",
    "        dog_count += 1\n",
    "        image = cv2.imread(my_path + file)\n",
    "        image = cv2.resize(image, (150, 150), interpolation =cv2.INTER_AREA)\n",
    "        if dog_count <= training_size:\n",
    "            training_images.append(image)\n",
    "            training_labels.append(1)\n",
    "            zeros = get_zeros(dog_count)\n",
    "            cv2.imwrite(dog_dir_train + \"dog\" + str(zeros) + str(dog_count) + \".jpg\", image)\n",
    "        if dog_count > training_size and dog_count <= training_size + test_size:\n",
    "            test_images.append(image)\n",
    "            test_labels.append(1)\n",
    "            zeros = get_zeros(dog_count - 1000)\n",
    "            cv2.imwrite(dog_dir_test + \"dog\" + str(zeros) + str(dog_count - 1000) + \".jpg\", image)\n",
    "    \n",
    "    if file_names[i][0] == \"c\":\n",
    "        cat_count += 1\n",
    "        image = cv2.imread(my_path + file)\n",
    "        image = cv2.resize(image, (150, 150), interpolation =cv2.INTER_AREA)\n",
    "        if cat_count <= training_size:\n",
    "            training_images.append(image)\n",
    "            training_labels.append(0)\n",
    "            zeros = get_zeros(cat_count)\n",
    "            cv2.imwrite(cat_dir_train + \"cat\" + str(zeros) + str(cat_count) + \".jpg\", image)\n",
    "        if cat_count > training_size and cat_count <= training_size + test_size:\n",
    "            test_images.append(image)\n",
    "            test_labels.append(0)\n",
    "            zeros = get_zeros(cat_count - 1000)\n",
    "            cv2.imwrite(cat_dir_test + \"cat\" + str(zeros) + str(cat_count - 1000) + \".jpg\", image)\n",
    "print(\"Completed\")"
   ]
  },
  {
   "cell_type": "code",
   "execution_count": 15,
   "metadata": {},
   "outputs": [],
   "source": [
    "np.savez(\"cat_dog_train_data.npz\", np.array(training_images))\n",
    "np.savez(\"cat_dog_train_labels.npz\", np.array(training_labels))\n",
    "np.savez(\"cat_dog_test_data.npz\", np.array(test_images))\n",
    "np.savez(\"cat_dog_test_labels.npz\", np.array(test_labels))"
   ]
  },
  {
   "cell_type": "code",
   "execution_count": 16,
   "metadata": {},
   "outputs": [],
   "source": [
    "# Read npz files\n",
    "import numpy as np\n",
    "\n",
    "def load_data_training_test_data(datasetname):\n",
    "    npzfile = np.load(datasetname + \"_train_data.npz\")\n",
    "    train = npzfile['arr_0']\n",
    "    \n",
    "    npzfile = np.load(datasetname + \"_train_labels.npz\")\n",
    "    train_labels = npzfile['arr_0']\n",
    "    \n",
    "    npzfile = np.load(datasetname + \"_test_data.npz\")\n",
    "    test = npzfile['arr_0']\n",
    "    \n",
    "    npzfile = np.load(datasetname + \"_test_labels.npz\")\n",
    "    test_labels = npzfile['arr_0']\n",
    "    \n",
    "    return (train, train_labels), (test, test_labels)"
   ]
  },
  {
   "cell_type": "code",
   "execution_count": 21,
   "metadata": {},
   "outputs": [
    {
     "name": "stdout",
     "output_type": "stream",
     "text": [
      "1 - Dog\n",
      "2 - Cat\n",
      "3 - Dog\n",
      "4 - Dog\n",
      "5 - Dog\n",
      "6 - Dog\n",
      "7 - Dog\n",
      "8 - Cat\n",
      "9 - Dog\n",
      "10 - Cat\n"
     ]
    }
   ],
   "source": [
    "# Randomly show pictures and show labels\n",
    "for i in range(1, 11):\n",
    "    random = np.random.randint(0, len(training_images))\n",
    "    cv2.imshow(\"image_\" + str(i), training_images[random])\n",
    "#     plt.imshow(\"image_\" + str(i), training_images[random])\n",
    "    if training_labels[random] == 0:\n",
    "        print(str(i) + \" - Cat\")\n",
    "    else:\n",
    "        print(str(i) + \" - Dog\")\n",
    "    cv2.waitKey(0)\n",
    "cv2.destroyAllWindows()"
   ]
  },
  {
   "cell_type": "code",
   "execution_count": 23,
   "metadata": {},
   "outputs": [],
   "source": [
    "# Get the data ready for Keras\n",
    "(x_train, y_train), (x_test, y_test) = load_data_training_test_data(\"cat_dog\")\n",
    "# 2000, => 2000, 1;;;;; 1000, => 1000, 1\n",
    "y_train = y_train.reshape(y_train.shape[0], 1)\n",
    "y_test = y_test.reshape(y_test.shape[0], 1)\n",
    "\n",
    "x_train = x_train.astype(\"float32\")\n",
    "x_test = x_test.astype(\"float32\")\n",
    "\n",
    "x_train /= 255\n",
    "x_test /= 255"
   ]
  },
  {
   "cell_type": "code",
   "execution_count": 24,
   "metadata": {},
   "outputs": [
    {
     "name": "stdout",
     "output_type": "stream",
     "text": [
      "(2000, 150, 150, 3)\n",
      "(1000, 150, 150, 3)\n",
      "(2000, 1)\n",
      "(1000, 1)\n"
     ]
    }
   ],
   "source": [
    "print(x_train.shape)\n",
    "print(x_test.shape)\n",
    "print(y_train.shape)\n",
    "print(y_test.shape)"
   ]
  },
  {
   "cell_type": "code",
   "execution_count": 27,
   "metadata": {},
   "outputs": [],
   "source": [
    "# CNN model\n",
    "from __future__ import print_function\n",
    "import os\n",
    "import keras\n",
    "from keras.preprocessing.image import ImageDataGenerator\n",
    "from keras.models import Sequential\n",
    "from keras.layers import Dense, Conv2D, Flatten, Dropout, MaxPooling2D, Activation"
   ]
  },
  {
   "cell_type": "code",
   "execution_count": 42,
   "metadata": {},
   "outputs": [
    {
     "ename": "SyntaxError",
     "evalue": "invalid syntax (<ipython-input-42-358a47be95c3>, line 9)",
     "output_type": "error",
     "traceback": [
      "\u001b[1;36m  File \u001b[1;32m\"<ipython-input-42-358a47be95c3>\"\u001b[1;36m, line \u001b[1;32m9\u001b[0m\n\u001b[1;33m    model.add(Activation('relu'))\u001b[0m\n\u001b[1;37m        ^\u001b[0m\n\u001b[1;31mSyntaxError\u001b[0m\u001b[1;31m:\u001b[0m invalid syntax\n"
     ]
    }
   ],
   "source": [
    "batch_size = 16\n",
    "epochs = 25\n",
    "img_rows = x_train[0].shape[0]\n",
    "img_cols = x_train[1].shape[0]\n",
    "input_shape = (img_rows, img_cols, 3)\n",
    "# model = Sequential()\n",
    "# model.add(Conv2D(32, (3,3), input_shape=input_shape)\n",
    "# model.add(Activation('relu'))\n",
    "# model.add(MaxPooling2D(pool_size=(2,2)))\n",
    "\n",
    "# model.add(Conv2D(64, (3,3))\n",
    "# model.add(Activation('relu'))\n",
    "# model.add(MaxPooling2D(pool_size=(2, 2)))\n",
    "# model.add(Flatten())\n",
    "# model.add(Dense(64), activation='relu')\n",
    "# model.add(Dropout(0.5))\n",
    "# model.add(Dense(1), activation='sigmoid')"
   ]
  },
  {
   "cell_type": "code",
   "execution_count": 39,
   "metadata": {},
   "outputs": [],
   "source": [
    "model = Sequential()"
   ]
  },
  {
   "cell_type": "code",
   "execution_count": 43,
   "metadata": {},
   "outputs": [
    {
     "name": "stdout",
     "output_type": "stream",
     "text": [
      "WARNING:tensorflow:From C:\\Users\\agamm\\Anaconda3\\lib\\site-packages\\tensorflow\\python\\ops\\resource_variable_ops.py:435: colocate_with (from tensorflow.python.framework.ops) is deprecated and will be removed in a future version.\n",
      "Instructions for updating:\n",
      "Colocations handled automatically by placer.\n"
     ]
    }
   ],
   "source": [
    "model.add(Conv2D(32, (3,3), input_shape=input_shape))"
   ]
  },
  {
   "cell_type": "code",
   "execution_count": 44,
   "metadata": {},
   "outputs": [],
   "source": [
    "model.add(Activation('relu'))"
   ]
  },
  {
   "cell_type": "code",
   "execution_count": 45,
   "metadata": {},
   "outputs": [],
   "source": [
    "model.add(MaxPooling2D(pool_size=(2,2)))"
   ]
  },
  {
   "cell_type": "code",
   "execution_count": 47,
   "metadata": {},
   "outputs": [],
   "source": [
    "model.add(Conv2D(64, (3,3)))"
   ]
  },
  {
   "cell_type": "code",
   "execution_count": 48,
   "metadata": {},
   "outputs": [],
   "source": [
    "model.add(Activation('relu'))"
   ]
  },
  {
   "cell_type": "code",
   "execution_count": 49,
   "metadata": {},
   "outputs": [],
   "source": [
    "model.add(MaxPooling2D(pool_size=(2,2)))"
   ]
  },
  {
   "cell_type": "code",
   "execution_count": 50,
   "metadata": {},
   "outputs": [],
   "source": [
    "model.add(Flatten())"
   ]
  },
  {
   "cell_type": "code",
   "execution_count": 51,
   "metadata": {},
   "outputs": [],
   "source": [
    "model.add(Dense(64))"
   ]
  },
  {
   "cell_type": "code",
   "execution_count": 52,
   "metadata": {},
   "outputs": [],
   "source": [
    "model.add(Activation('relu'))"
   ]
  },
  {
   "cell_type": "code",
   "execution_count": 53,
   "metadata": {},
   "outputs": [],
   "source": [
    "model.add(Dropout(0.5))"
   ]
  },
  {
   "cell_type": "code",
   "execution_count": 54,
   "metadata": {},
   "outputs": [],
   "source": [
    "model.add(Dense(1))"
   ]
  },
  {
   "cell_type": "code",
   "execution_count": 55,
   "metadata": {},
   "outputs": [],
   "source": [
    "model.add(Activation('sigmoid'))"
   ]
  },
  {
   "cell_type": "code",
   "execution_count": 56,
   "metadata": {},
   "outputs": [],
   "source": [
    "model.compile(loss=\"binary_crossentropy\", optimizer=\"rmsprop\", metrics=['accuracy'])"
   ]
  },
  {
   "cell_type": "code",
   "execution_count": 57,
   "metadata": {},
   "outputs": [
    {
     "name": "stdout",
     "output_type": "stream",
     "text": [
      "Model: \"sequential_2\"\n",
      "_________________________________________________________________\n",
      "Layer (type)                 Output Shape              Param #   \n",
      "=================================================================\n",
      "conv2d_2 (Conv2D)            (None, 148, 148, 32)      896       \n",
      "_________________________________________________________________\n",
      "activation_1 (Activation)    (None, 148, 148, 32)      0         \n",
      "_________________________________________________________________\n",
      "max_pooling2d_1 (MaxPooling2 (None, 74, 74, 32)        0         \n",
      "_________________________________________________________________\n",
      "conv2d_3 (Conv2D)            (None, 72, 72, 64)        18496     \n",
      "_________________________________________________________________\n",
      "activation_2 (Activation)    (None, 72, 72, 64)        0         \n",
      "_________________________________________________________________\n",
      "max_pooling2d_2 (MaxPooling2 (None, 36, 36, 64)        0         \n",
      "_________________________________________________________________\n",
      "flatten_1 (Flatten)          (None, 82944)             0         \n",
      "_________________________________________________________________\n",
      "dense_1 (Dense)              (None, 64)                5308480   \n",
      "_________________________________________________________________\n",
      "activation_3 (Activation)    (None, 64)                0         \n",
      "_________________________________________________________________\n",
      "dropout_1 (Dropout)          (None, 64)                0         \n",
      "_________________________________________________________________\n",
      "dense_2 (Dense)              (None, 1)                 65        \n",
      "_________________________________________________________________\n",
      "activation_4 (Activation)    (None, 1)                 0         \n",
      "=================================================================\n",
      "Total params: 5,327,937\n",
      "Trainable params: 5,327,937\n",
      "Non-trainable params: 0\n",
      "_________________________________________________________________\n"
     ]
    }
   ],
   "source": [
    "model.summary()"
   ]
  },
  {
   "cell_type": "code",
   "execution_count": 58,
   "metadata": {},
   "outputs": [
    {
     "name": "stdout",
     "output_type": "stream",
     "text": [
      "WARNING:tensorflow:From C:\\Users\\agamm\\Anaconda3\\lib\\site-packages\\tensorflow\\python\\ops\\math_ops.py:3066: to_int32 (from tensorflow.python.ops.math_ops) is deprecated and will be removed in a future version.\n",
      "Instructions for updating:\n",
      "Use tf.cast instead.\n",
      "Train on 2000 samples, validate on 1000 samples\n",
      "Epoch 1/25\n",
      "2000/2000 [==============================] - 90s 45ms/step - loss: 0.8076 - accuracy: 0.5385 - val_loss: 0.6626 - val_accuracy: 0.6620\n",
      "Epoch 2/25\n",
      "2000/2000 [==============================] - 79s 39ms/step - loss: 0.6756 - accuracy: 0.6345 - val_loss: 0.6640 - val_accuracy: 0.5830\n",
      "Epoch 3/25\n",
      "2000/2000 [==============================] - 80s 40ms/step - loss: 0.6242 - accuracy: 0.6850 - val_loss: 0.6286 - val_accuracy: 0.6710\n",
      "Epoch 4/25\n",
      "2000/2000 [==============================] - 77s 38ms/step - loss: 0.5264 - accuracy: 0.7635 - val_loss: 0.6211 - val_accuracy: 0.6920\n",
      "Epoch 5/25\n",
      "2000/2000 [==============================] - 81s 41ms/step - loss: 0.4196 - accuracy: 0.8170 - val_loss: 1.2822 - val_accuracy: 0.5730\n",
      "Epoch 6/25\n",
      "2000/2000 [==============================] - 80s 40ms/step - loss: 0.3404 - accuracy: 0.8580 - val_loss: 0.8262 - val_accuracy: 0.6930\n",
      "Epoch 7/25\n",
      "2000/2000 [==============================] - 77s 38ms/step - loss: 0.2659 - accuracy: 0.8990 - val_loss: 0.9065 - val_accuracy: 0.7130\n",
      "Epoch 8/25\n",
      "2000/2000 [==============================] - 83s 41ms/step - loss: 0.1876 - accuracy: 0.9240 - val_loss: 1.2827 - val_accuracy: 0.6620\n",
      "Epoch 9/25\n",
      "2000/2000 [==============================] - 83s 42ms/step - loss: 0.1408 - accuracy: 0.9445 - val_loss: 1.1650 - val_accuracy: 0.6890\n",
      "Epoch 10/25\n",
      "2000/2000 [==============================] - 81s 41ms/step - loss: 0.1430 - accuracy: 0.9530 - val_loss: 1.4136 - val_accuracy: 0.6890\n",
      "Epoch 11/25\n",
      "2000/2000 [==============================] - 79s 40ms/step - loss: 0.1138 - accuracy: 0.9635 - val_loss: 1.5055 - val_accuracy: 0.7050\n",
      "Epoch 12/25\n",
      "2000/2000 [==============================] - 87s 43ms/step - loss: 0.0931 - accuracy: 0.9720 - val_loss: 1.7638 - val_accuracy: 0.6900\n",
      "Epoch 13/25\n",
      "2000/2000 [==============================] - 88s 44ms/step - loss: 0.0761 - accuracy: 0.9770 - val_loss: 1.6260 - val_accuracy: 0.6680\n",
      "Epoch 14/25\n",
      "2000/2000 [==============================] - 82s 41ms/step - loss: 0.0540 - accuracy: 0.9810 - val_loss: 1.9654 - val_accuracy: 0.6890\n",
      "Epoch 15/25\n",
      "2000/2000 [==============================] - 82s 41ms/step - loss: 0.0728 - accuracy: 0.9800 - val_loss: 1.6772 - val_accuracy: 0.6890\n",
      "Epoch 16/25\n",
      "2000/2000 [==============================] - 80s 40ms/step - loss: 0.0985 - accuracy: 0.9720 - val_loss: 2.1968 - val_accuracy: 0.6980\n",
      "Epoch 17/25\n",
      "2000/2000 [==============================] - 78s 39ms/step - loss: 0.0482 - accuracy: 0.9845 - val_loss: 1.8552 - val_accuracy: 0.6670\n",
      "Epoch 18/25\n",
      "2000/2000 [==============================] - 80s 40ms/step - loss: 0.0522 - accuracy: 0.9860 - val_loss: 2.4718 - val_accuracy: 0.6890\n",
      "Epoch 19/25\n",
      "2000/2000 [==============================] - 79s 39ms/step - loss: 0.0719 - accuracy: 0.9825 - val_loss: 2.3326 - val_accuracy: 0.6700\n",
      "Epoch 20/25\n",
      "2000/2000 [==============================] - 79s 40ms/step - loss: 0.0438 - accuracy: 0.9870 - val_loss: 2.4980 - val_accuracy: 0.6680\n",
      "Epoch 21/25\n",
      "2000/2000 [==============================] - 79s 40ms/step - loss: 0.0495 - accuracy: 0.9870 - val_loss: 2.2802 - val_accuracy: 0.6750\n",
      "Epoch 22/25\n",
      "2000/2000 [==============================] - 78s 39ms/step - loss: 0.0413 - accuracy: 0.9895 - val_loss: 2.7991 - val_accuracy: 0.6740\n",
      "Epoch 23/25\n",
      "2000/2000 [==============================] - 77s 39ms/step - loss: 0.0698 - accuracy: 0.9840 - val_loss: 2.2221 - val_accuracy: 0.6620\n",
      "Epoch 24/25\n",
      "2000/2000 [==============================] - 80s 40ms/step - loss: 0.0620 - accuracy: 0.9870 - val_loss: 2.3669 - val_accuracy: 0.6790\n",
      "Epoch 25/25\n",
      "2000/2000 [==============================] - 79s 39ms/step - loss: 0.0581 - accuracy: 0.9860 - val_loss: 2.4651 - val_accuracy: 0.6820\n"
     ]
    }
   ],
   "source": [
    "history = model.fit(x_train, y_train, batch_size=batch_size, epochs=epochs, validation_data=(x_test, y_test), shuffle=True)"
   ]
  },
  {
   "cell_type": "code",
   "execution_count": 59,
   "metadata": {},
   "outputs": [
    {
     "name": "stdout",
     "output_type": "stream",
     "text": [
      "1000/1000 [==============================] - 12s 12ms/step\n",
      "2.4651028351783753\n",
      "0.6819999814033508\n"
     ]
    }
   ],
   "source": [
    "# low without data augmentation\n",
    "model.save(\"catdog.h5\")\n",
    "\n",
    "score = model.evaluate(x_test, y_test, verbose=1)\n",
    "print(score[0])\n",
    "print(score[1])\n"
   ]
  },
  {
   "cell_type": "code",
   "execution_count": 60,
   "metadata": {},
   "outputs": [],
   "source": [
    "from keras.models import load_model\n",
    "classifier = load_model(\"catdog.h5\")"
   ]
  },
  {
   "cell_type": "code",
   "execution_count": null,
   "metadata": {},
   "outputs": [],
   "source": []
  }
 ],
 "metadata": {
  "kernelspec": {
   "display_name": "Python 3",
   "language": "python",
   "name": "python3"
  },
  "language_info": {
   "codemirror_mode": {
    "name": "ipython",
    "version": 3
   },
   "file_extension": ".py",
   "mimetype": "text/x-python",
   "name": "python",
   "nbconvert_exporter": "python",
   "pygments_lexer": "ipython3",
   "version": "3.7.7"
  }
 },
 "nbformat": 4,
 "nbformat_minor": 4
}

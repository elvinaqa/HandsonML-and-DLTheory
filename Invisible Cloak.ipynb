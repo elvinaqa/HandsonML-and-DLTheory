{
 "cells": [
  {
   "cell_type": "code",
   "execution_count": 1,
   "metadata": {},
   "outputs": [],
   "source": [
    "import cv2\n",
    "import numpy as np\n",
    "import time"
   ]
  },
  {
   "cell_type": "code",
   "execution_count": 4,
   "metadata": {},
   "outputs": [
    {
     "ename": "KeyboardInterrupt",
     "evalue": "",
     "output_type": "error",
     "traceback": [
      "\u001b[1;31m---------------------------------------------------------------------------\u001b[0m",
      "\u001b[1;31mKeyboardInterrupt\u001b[0m                         Traceback (most recent call last)",
      "\u001b[1;32m<ipython-input-4-7b432920868a>\u001b[0m in \u001b[0;36m<module>\u001b[1;34m\u001b[0m\n\u001b[0;32m     18\u001b[0m \u001b[1;31m# reading from the camera\u001b[0m\u001b[1;33m\u001b[0m\u001b[1;33m\u001b[0m\u001b[1;33m\u001b[0m\u001b[0m\n\u001b[0;32m     19\u001b[0m \u001b[1;32mwhile\u001b[0m\u001b[1;33m(\u001b[0m\u001b[0mcap\u001b[0m\u001b[1;33m.\u001b[0m\u001b[0misOpened\u001b[0m\u001b[1;33m(\u001b[0m\u001b[1;33m)\u001b[0m\u001b[1;33m)\u001b[0m\u001b[1;33m:\u001b[0m\u001b[1;33m\u001b[0m\u001b[1;33m\u001b[0m\u001b[0m\n\u001b[1;32m---> 20\u001b[1;33m     \u001b[0mret\u001b[0m\u001b[1;33m,\u001b[0m \u001b[0mimg\u001b[0m \u001b[1;33m=\u001b[0m \u001b[0mcap\u001b[0m\u001b[1;33m.\u001b[0m\u001b[0mread\u001b[0m\u001b[1;33m(\u001b[0m\u001b[1;33m)\u001b[0m\u001b[1;33m\u001b[0m\u001b[1;33m\u001b[0m\u001b[0m\n\u001b[0m\u001b[0;32m     21\u001b[0m     \u001b[1;32mif\u001b[0m \u001b[1;32mnot\u001b[0m \u001b[0mret\u001b[0m\u001b[1;33m:\u001b[0m\u001b[1;33m\u001b[0m\u001b[1;33m\u001b[0m\u001b[0m\n\u001b[0;32m     22\u001b[0m         \u001b[1;32mbreak\u001b[0m\u001b[1;33m\u001b[0m\u001b[1;33m\u001b[0m\u001b[0m\n",
      "\u001b[1;31mKeyboardInterrupt\u001b[0m: "
     ]
    }
   ],
   "source": [
    "# Saving the video and writing it with VideoWriter function\n",
    "fourcc = cv2.VideoWriter_fourcc(*'XVID')\n",
    "out = cv2.VideoWriter('output.avi',fourcc,20.0, (640,480))\n",
    "\n",
    "# reading from the webcam \n",
    "cap = cv2.VideoCapture(0)\n",
    "\n",
    "time.sleep(3)\n",
    "count = 0\n",
    "background = 0\n",
    "\n",
    "# Saving each frame to the background variable and averaging frames for removal of noise\n",
    "for i in range(60):\n",
    "    ret,background = cap.read()\n",
    "background = np.flip(background,axis=1)\n",
    "\n",
    "\n",
    "# reading from the camera\n",
    "while(cap.isOpened()):\n",
    "    ret, img = cap.read()\n",
    "    if not ret:\n",
    "        break\n",
    "    count+=1\n",
    "    img = np.flip(img,axis=1)\n",
    "    \n",
    "    \n",
    "    # color convertion from bgr to hsv\n",
    "    hsv = cv2.cvtColor(img, cv2.COLOR_BGR2HSV)\n",
    "\n",
    "    #detection of hue values for the red color which are 0, 30 and 150, 180 \n",
    "\n",
    "    # Generate masks to detect red color\n",
    "    lower_red = np.array([0,120,50])\n",
    "    upper_red = np.array([10,255,255])\n",
    "    mask1 = cv2.inRange(hsv,lower_red,upper_red)\n",
    "\n",
    "    lower_red = np.array([170,120,70])\n",
    "    upper_red = np.array([180,255,255])\n",
    "    \n",
    "#     lower_blue = np.array([110,50,50])\n",
    "#     upper_blue = np.array([130,255,255])\n",
    "\n",
    "    mask2 = cv2.inRange(hsv,lower_red,upper_red)\n",
    "\n",
    "    mask1 = mask1+mask2\n",
    "    \n",
    "\n",
    "    # Open and Dilate the mask image\n",
    "    mask1 = cv2.morphologyEx(mask1, cv2.MORPH_OPEN, np.ones((3,3),np.uint8))\n",
    "    mask1 = cv2.morphologyEx(mask1, cv2.MORPH_DILATE, np.ones((3,3),np.uint8))\n",
    " \n",
    " \n",
    "    # Create an inverted mask to segment out the red color from the frame\n",
    "    mask2 = cv2.bitwise_not(mask1)\n",
    " \n",
    " \n",
    "    # Segment the red color part out of the frame using bitwise and with the inverted mask\n",
    "    res1 = cv2.bitwise_and(img,img,mask=mask2)\n",
    "\n",
    "    # Create image showing static background frame pixels only for the masked region\n",
    "    res2 = cv2.bitwise_and(background, background, mask = mask1)\n",
    " \n",
    " \n",
    "    # Generating the final output and writing\n",
    "    finalOutput = cv2.addWeighted(res1,1,res2,1,0)\n",
    "    out.write(finalOutput)\n",
    "    cv2.imshow(\"magic\",finalOutput)\n",
    "    cv2.waitKey(1)\n",
    "    \n",
    "    \n",
    "\n",
    "cap.release()\n",
    "out.release()\n",
    "cv2.destroyAllWindows()"
   ]
  },
  {
   "cell_type": "code",
   "execution_count": 1,
   "metadata": {},
   "outputs": [
    {
     "data": {
      "text/plain": [
       "'import cv2\\nimport numpy as np\\n\\ncap = cv2.VideoCapture(0)\\n\\nwhile True:\\n    _, frame = cap.read()\\n    hsv_frame = cv2.cvtColor(frame, cv2.COLOR_BGR2HSV)\\nInside the while loop we define the HSV ranges (low_red, high_red), we create the mask and we show only the object with the red color.\\n\\n    # Red color\\n    low_red = np.array([161, 155, 84])\\n    high_red = np.array([179, 255, 255])\\n    red_mask = cv2.inRange(hsv_frame, low_red, high_red)\\n    red = cv2.bitwise_and(frame, frame, mask=red_mask)\\nSame for the other colors:\\n\\n    # Blue color\\n    low_blue = np.array([94, 80, 2])\\n    high_blue = np.array([126, 255, 255])\\n    blue_mask = cv2.inRange(hsv_frame, low_blue, high_blue)\\n    blue = cv2.bitwise_and(frame, frame, mask=blue_mask)\\n\\n    # Green color\\n    low_green = np.array([25, 52, 72])\\n    high_green = np.array([102, 255, 255])\\n    green_mask = cv2.inRange(hsv_frame, low_green, high_green)\\n    green = cv2.bitwise_and(frame, frame, mask=green_mask)\\n\\n    # Every color except white\\n    low = np.array([0, 42, 0])\\n    high = np.array([179, 255, 255])\\n    mask = cv2.inRange(hsv_frame, low, high)\\n    result = cv2.bitwise_and(frame, frame, mask=mask)\\nWe finally show the result:\\n\\n    cv2.imshow(\"Frame\", frame)\\n    cv2.imshow(\"Red\", red)\\n    cv2.imshow(\"Blue\", blue)\\n    cv2.imshow(\"Green\", green)\\n    cv2.imshow(\"Result\", result)\\n\\n    key = cv2.waitKey(1)\\n    if key == 27:\\n        break'"
      ]
     },
     "execution_count": 1,
     "metadata": {},
     "output_type": "execute_result"
    }
   ],
   "source": [
    "\"\"\"import cv2\n",
    "import numpy as np\n",
    "\n",
    "cap = cv2.VideoCapture(0)\n",
    "\n",
    "while True:\n",
    "    _, frame = cap.read()\n",
    "    hsv_frame = cv2.cvtColor(frame, cv2.COLOR_BGR2HSV)\n",
    "Inside the while loop we define the HSV ranges (low_red, high_red), we create the mask and we show only the object with the red color.\n",
    "\n",
    "    # Red color\n",
    "    low_red = np.array([161, 155, 84])\n",
    "    high_red = np.array([179, 255, 255])\n",
    "    red_mask = cv2.inRange(hsv_frame, low_red, high_red)\n",
    "    red = cv2.bitwise_and(frame, frame, mask=red_mask)\n",
    "Same for the other colors:\n",
    "\n",
    "    # Blue color\n",
    "    low_blue = np.array([94, 80, 2])\n",
    "    high_blue = np.array([126, 255, 255])\n",
    "    blue_mask = cv2.inRange(hsv_frame, low_blue, high_blue)\n",
    "    blue = cv2.bitwise_and(frame, frame, mask=blue_mask)\n",
    "\n",
    "    # Green color\n",
    "    low_green = np.array([25, 52, 72])\n",
    "    high_green = np.array([102, 255, 255])\n",
    "    green_mask = cv2.inRange(hsv_frame, low_green, high_green)\n",
    "    green = cv2.bitwise_and(frame, frame, mask=green_mask)\n",
    "\n",
    "    # Every color except white\n",
    "    low = np.array([0, 42, 0])\n",
    "    high = np.array([179, 255, 255])\n",
    "    mask = cv2.inRange(hsv_frame, low, high)\n",
    "    result = cv2.bitwise_and(frame, frame, mask=mask)\n",
    "We finally show the result:\n",
    "\n",
    "    cv2.imshow(\"Frame\", frame)\n",
    "    cv2.imshow(\"Red\", red)\n",
    "    cv2.imshow(\"Blue\", blue)\n",
    "    cv2.imshow(\"Green\", green)\n",
    "    cv2.imshow(\"Result\", result)\n",
    "\n",
    "    key = cv2.waitKey(1)\n",
    "    if key == 27:\n",
    "        break\"\"\""
   ]
  },
  {
   "cell_type": "code",
   "execution_count": null,
   "metadata": {},
   "outputs": [],
   "source": []
  }
 ],
 "metadata": {
  "kernelspec": {
   "display_name": "Python 3",
   "language": "python",
   "name": "python3"
  },
  "language_info": {
   "codemirror_mode": {
    "name": "ipython",
    "version": 3
   },
   "file_extension": ".py",
   "mimetype": "text/x-python",
   "name": "python",
   "nbconvert_exporter": "python",
   "pygments_lexer": "ipython3",
   "version": "3.7.3"
  }
 },
 "nbformat": 4,
 "nbformat_minor": 2
}

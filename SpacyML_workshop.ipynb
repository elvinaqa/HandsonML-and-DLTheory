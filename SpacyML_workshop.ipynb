{
  "nbformat": 4,
  "nbformat_minor": 0,
  "metadata": {
    "colab": {
      "name": "SpacyML workshop.ipynb",
      "provenance": [],
      "collapsed_sections": [],
      "include_colab_link": true
    },
    "kernelspec": {
      "name": "python3",
      "display_name": "Python 3"
    },
    "accelerator": "GPU"
  },
  "cells": [
    {
      "cell_type": "markdown",
      "metadata": {
        "id": "view-in-github",
        "colab_type": "text"
      },
      "source": [
        "<a href=\"https://colab.research.google.com/github/elvinaqa/HandsonML-and-DLTheory/blob/master/SpacyML_workshop.ipynb\" target=\"_parent\"><img src=\"https://colab.research.google.com/assets/colab-badge.svg\" alt=\"Open In Colab\"/></a>"
      ]
    },
    {
      "cell_type": "markdown",
      "metadata": {
        "id": "5Uef5pTeKEAm"
      },
      "source": [
        "![alt text](https://lh3.googleusercontent.com/3bOolgzArAow9LrUYYKZvFlXuY6gMWq0-0jq-QrxSsCyJRvA_-vbtnXFaqe6H7YkXS-9qzNlQ5F_VdMsbXkIkmeDVGEahFvGjU_JH0Vp6--3goVHI76puclJUgI5fFeBytdgdXC09ZWn2-vZ46BkvEMGQDzVCD2hSAfXVy2NX0SeFRrom-wI3HQR77VAEDEyd71SvwMVuAI4onqZfucBsPuzR-c-Kydup8PnwmfBWD0ZrTWvUnsAGGw81-q6Ek9NX8Wij-_yWSE8OxaRxlntQpjTh8bi3XOUJpdn22nWwGmPYS2YiTuFVmFeGNB4UnZYWAWSw6bsa7-jMrtHPnVtgVxHJsajm-FuQj0tBKbXFaVZH2zxui3SIs-Cv8W7hyFGsK1y1nxlWgYVIIxMbrYxCKxArWK9ugLhTGcxPjNJR13xlUpvwRE-YRjCg121WneVbgbFnCjjKik7sfjHZe33pbstrMHQ_UEHeBohmqcQwoV_faDKC3uKlHLEfygnGHiOdkkTjj3aNLez0bJSIn_38FZQXcHhADY5kNk2evA_9Dr12QSILHRfi2jOW6-OL-UodtsRGIVMyglMIPQLt6aZaAFwRS2BuJhDc5z2zqgr2mUBGnaMlapyAE-2zLPjlhU=w954-h532-no)"
      ]
    },
    {
      "cell_type": "markdown",
      "metadata": {
        "id": "oMvUOXOlKJQ6"
      },
      "source": [
        "https://www.linkedin.com/in/wenrusheu/\n",
        "\n",
        "https://www.linkedin.com/in/christopher-lennan-287a12140"
      ]
    },
    {
      "cell_type": "markdown",
      "metadata": {
        "id": "E7_l-6nvLBi_"
      },
      "source": [
        "# [Spacy](https://spacy.io/)\n",
        "## What is Spacy\n",
        "spaCy is a free, open-source library for advanced Natural Language Processing (NLP) in Python.\n",
        "\n",
        "## Why uses Spacy?\n",
        "\n",
        "\n",
        "1.   It's fast.\n",
        "2.   It's accurate.\n",
        "3.   Battery included\n",
        "4.   Extensible\n",
        "5.   Deep learning ready ([thinc](https://github.com/explosion/thinc))\n"
      ]
    },
    {
      "cell_type": "code",
      "metadata": {
        "id": "Hs5QPZjSNBm6",
        "outputId": "baf83d74-6c17-4bff-a6cd-420fdc9cdfba",
        "colab": {
          "base_uri": "https://localhost:8080/",
          "height": 136
        }
      },
      "source": [
        "##############################\n",
        "#    1. Basic Techniques     #\n",
        "##############################\n",
        "#https://spacy.io/usage/spacy-101\n",
        "# NLP Techniques\n",
        "#1. Tokenisation \n",
        "#2. Part of speech tagging\n",
        "#3. Named Entity Recognition\n",
        "\n",
        "###############################\n",
        "#    1.1 Load model     #\n",
        "###############################\n",
        "#https://spacy.io/usage/models\n",
        "import spacy\n",
        "import spacy.cli\n",
        "spacy.cli.download(\"en\")"
      ],
      "execution_count": null,
      "outputs": [
        {
          "output_type": "stream",
          "text": [
            "\n",
            "\u001b[93m    Linking successful\u001b[0m\n",
            "    /usr/local/lib/python3.6/dist-packages/en_core_web_sm -->\n",
            "    /usr/local/lib/python3.6/dist-packages/spacy/data/en\n",
            "\n",
            "    You can now load the model via spacy.load('en')\n",
            "\n"
          ],
          "name": "stdout"
        }
      ]
    },
    {
      "cell_type": "code",
      "metadata": {
        "id": "4LZCvKO8IYDf"
      },
      "source": [
        "#load dictionary, we name it \"nlp\", which contains all components and data needed to process text \n",
        "nlp = spacy.load(\"en\")"
      ],
      "execution_count": null,
      "outputs": []
    },
    {
      "cell_type": "code",
      "metadata": {
        "id": "qducNEytIFeb"
      },
      "source": [
        "#calling our \"nlp\" on a string or text will return us a processed doc\n",
        "doc = nlp(\"Next week I'll be in Madrid.\")"
      ],
      "execution_count": null,
      "outputs": []
    },
    {
      "cell_type": "code",
      "metadata": {
        "id": "fd6SZ_FrIJam",
        "outputId": "67cdf805-a362-4f3e-cfa5-fd8aa261b530",
        "colab": {
          "base_uri": "https://localhost:8080/",
          "height": 173
        }
      },
      "source": [
        "###########################\n",
        "#    1.2 Tokenization     #\n",
        "###########################\n",
        "#https://nlp.stanford.edu/IR-book/html/htmledition/tokenization-1.html\n",
        "#During processing, spaCy first tokenizes the text, \n",
        "#i.e. segments it into words, punctuation and so on. \n",
        "#This is done by applying rules specific to each language. \n",
        "for token in doc:\n",
        "    print('\"' + token.text + '\"' , token.idx)"
      ],
      "execution_count": null,
      "outputs": [
        {
          "output_type": "stream",
          "text": [
            "\"Next\" 0\n",
            "\"week\" 5\n",
            "\"I\" 10\n",
            "\"'ll\" 11\n",
            "\"be\" 15\n",
            "\"in\" 18\n",
            "\"Madrid\" 21\n",
            "\".\" 27\n"
          ],
          "name": "stdout"
        }
      ]
    },
    {
      "cell_type": "markdown",
      "metadata": {
        "id": "dH5uyn1TJHqg"
      },
      "source": [
        "# Part of Speech (POS) Tagging\n",
        "## Definition\n",
        "Part-of-speech tagging (POS tagging or PoS tagging or POST), also called grammatical tagging or word-category disambiguation, is the process of marking up a word in a text (corpus) as corresponding to a particular part of speech, based on both its definition and its context\n",
        "\n",
        "A simplified form of this is commonly taught to school-age children, in the identification of words as nouns, verbs, adjectives, adverbs, etc.\n",
        "\n",
        "## Applications\n",
        "Parsing, text-to-speech conversion, information extraction"
      ]
    },
    {
      "cell_type": "code",
      "metadata": {
        "id": "lZmN9IqqMuiV",
        "outputId": "601fb2e8-bdf8-460b-be24-4a417fdaef09",
        "colab": {
          "base_uri": "https://localhost:8080/",
          "height": 173
        }
      },
      "source": [
        "###########################################\n",
        "#    1.3 Part of Speech (POS) Tagging     #\n",
        "###########################################\n",
        "#https://medium.freecodecamp.org/an-introduction-to-part-of-speech-tagging-and-the-hidden-markov-model-953d45338f24\n",
        "#After tokenization, spaCy can parse and tag a given Doc. \n",
        "#This is where the statistical model comes in, which enables spaCy to make a prediction of which tag or label most likely applies in this context.\n",
        "doc = nlp(\"Next week I'll be in Madrid.\")\n",
        "for token in doc:\n",
        "    print(token.text, token.lemma_, token.pos_, token.tag_, token.dep_,\n",
        "          token.shape_, token.is_alpha, token.is_stop)"
      ],
      "execution_count": null,
      "outputs": [
        {
          "output_type": "stream",
          "text": [
            "Next next ADJ JJ amod Xxxx True False\n",
            "week week NOUN NN npadvmod xxxx True False\n",
            "I -PRON- PRON PRP nsubj X True False\n",
            "'ll will VERB MD aux 'xx False False\n",
            "be be VERB VB ROOT xx True True\n",
            "in in ADP IN prep xx True True\n",
            "Madrid madrid PROPN NNP pobj Xxxxx True False\n",
            ". . PUNCT . punct . False False\n"
          ],
          "name": "stdout"
        }
      ]
    },
    {
      "cell_type": "markdown",
      "metadata": {
        "id": "j-PEkTUbWkf1"
      },
      "source": [
        "# Named Entity Recognition (NER)\n",
        "A named entity is a \"real-world object\" that's assigned a name – for example, a person, a country, a product or a book title.\n",
        "\n",
        "spaCy can recognise various types of named entities in a document, by asking the model for a prediction. Because models are statistical and strongly depend on the examples they were trained on, this doesn't always work perfectly and might need some tuning later, depending on your use case.\n",
        "\n",
        "[tutorial](https://towardsdatascience.com/deep-learning-for-named-entity-recognition-2-implementing-the-state-of-the-art-bidirectional-lstm-4603491087f1)"
      ]
    },
    {
      "cell_type": "code",
      "metadata": {
        "id": "Xt_TaqsWcaBT",
        "outputId": "f6ceea91-eb04-48c4-85f2-69f3e8ce59da",
        "colab": {
          "base_uri": "https://localhost:8080/",
          "height": 71
        }
      },
      "source": [
        "############################################\n",
        "#    1.4 Named Entity Recognition(NER)     #\n",
        "############################################\n",
        "#https://www.codementor.io/bofinbabu/introduction-to-named-entity-recognition-ner-k584v86r6\n",
        "doc = nlp(\"Next week I'll be in Madrid.\")\n",
        "for ent in doc.ents:\n",
        "    print(ent.text, ent.label_)\n",
        "    \n",
        "#If you want to train your NER model\n",
        "#https://github.com/explosion/spacy/blob/master/examples/training/train_ner.py"
      ],
      "execution_count": null,
      "outputs": [
        {
          "output_type": "stream",
          "text": [
            "Next week DATE\n",
            "Madrid GPE\n"
          ],
          "name": "stdout"
        }
      ]
    },
    {
      "cell_type": "code",
      "metadata": {
        "id": "4-w9MxN8OrMT",
        "outputId": "9112507b-1b45-4d9b-85c6-be59f983b867",
        "colab": {
          "base_uri": "https://localhost:8080/",
          "height": 52
        }
      },
      "source": [
        "###########################\n",
        "#    1.5 Visualisation    #\n",
        "###########################\n",
        "#https://spacy.io/usage/visualizers\n",
        "from spacy import displacy\n",
        " \n",
        "doc = nlp(\"Next week I'll be in Madrid.\")\n",
        "displacy.render(doc, style='ent', jupyter=True)\n"
      ],
      "execution_count": null,
      "outputs": [
        {
          "output_type": "display_data",
          "data": {
            "text/html": [
              "<div class=\"entities\" style=\"line-height: 2.5\">\n",
              "<mark class=\"entity\" style=\"background: #bfe1d9; padding: 0.45em 0.6em; margin: 0 0.25em; line-height: 1; border-radius: 0.35em; box-decoration-break: clone; -webkit-box-decoration-break: clone\">\n",
              "    Next week\n",
              "    <span style=\"font-size: 0.8em; font-weight: bold; line-height: 1; border-radius: 0.35em; text-transform: uppercase; vertical-align: middle; margin-left: 0.5rem\">DATE</span>\n",
              "</mark>\n",
              " I'll be in \n",
              "<mark class=\"entity\" style=\"background: #feca74; padding: 0.45em 0.6em; margin: 0 0.25em; line-height: 1; border-radius: 0.35em; box-decoration-break: clone; -webkit-box-decoration-break: clone\">\n",
              "    Madrid\n",
              "    <span style=\"font-size: 0.8em; font-weight: bold; line-height: 1; border-radius: 0.35em; text-transform: uppercase; vertical-align: middle; margin-left: 0.5rem\">GPE</span>\n",
              "</mark>\n",
              ".</div>"
            ],
            "text/plain": [
              "<IPython.core.display.HTML object>"
            ]
          },
          "metadata": {
            "tags": []
          }
        }
      ]
    },
    {
      "cell_type": "markdown",
      "metadata": {
        "id": "eyWXRcVAmkqG"
      },
      "source": [
        "# Word Embedding\n",
        "\n",
        "\n",
        "## What it is? \n",
        "Vector of numbers that represent the meaning of a word.\n",
        "\n",
        "1.   If two words are similar, they appear in similar contexts\n",
        "2.   Word vectors are computed taking into account the context (surrounding words)\n",
        "3.   Given the two previous observations, similar words should have similar word vectors\n",
        "4.   Using vectors we can derive relationships between words\n",
        "\n",
        "\n",
        "## Technology behind it\n",
        "skip gram neural network architecture + negative sampling\n",
        "\n",
        "\n",
        "[tutorial link](http://mccormickml.com/2016/04/19/word2vec-tutorial-the-skip-gram-model/)\n",
        "\n",
        "\n",
        "[tutorial link2](\n",
        "https://towardsdatascience.com/word2vec-skip-gram-model-part-1-intuition-78614e4d6e0b)\n",
        "\n",
        "\n",
        "\n",
        "\n",
        "\n",
        "\n",
        "\n"
      ]
    },
    {
      "cell_type": "code",
      "metadata": {
        "id": "Fc1qdil5S_vw",
        "outputId": "a18bae00-8953-41db-9b22-a2db4a2b3b6d",
        "colab": {
          "base_uri": "https://localhost:8080/",
          "height": 300
        }
      },
      "source": [
        "#############################\n",
        "#    2. Word Embeddings     #\n",
        "#############################\n",
        "#Download a larger model\n",
        "spacy.cli.download(\"en_core_web_md\")\n",
        "nlp = spacy.load(\"en_core_web_md\")"
      ],
      "execution_count": null,
      "outputs": [
        {
          "output_type": "error",
          "ename": "NameError",
          "evalue": "ignored",
          "traceback": [
            "\u001b[0;31m---------------------------------------------------------------------------\u001b[0m",
            "\u001b[0;31mNameError\u001b[0m                                 Traceback (most recent call last)",
            "\u001b[0;32m<ipython-input-1-8509b4112a23>\u001b[0m in \u001b[0;36m<module>\u001b[0;34m()\u001b[0m\n\u001b[0;32m----> 1\u001b[0;31m \u001b[0mspacy\u001b[0m\u001b[0;34m.\u001b[0m\u001b[0mcli\u001b[0m\u001b[0;34m.\u001b[0m\u001b[0mdownload\u001b[0m\u001b[0;34m(\u001b[0m\u001b[0;34m\"en_core_web_md\"\u001b[0m\u001b[0;34m)\u001b[0m\u001b[0;34m\u001b[0m\u001b[0;34m\u001b[0m\u001b[0m\n\u001b[0m\u001b[1;32m      2\u001b[0m \u001b[0mnlp\u001b[0m \u001b[0;34m=\u001b[0m \u001b[0mspacy\u001b[0m\u001b[0;34m.\u001b[0m\u001b[0mload\u001b[0m\u001b[0;34m(\u001b[0m\u001b[0;34m\"en_core_web_md\"\u001b[0m\u001b[0;34m)\u001b[0m\u001b[0;34m\u001b[0m\u001b[0;34m\u001b[0m\u001b[0m\n",
            "\u001b[0;31mNameError\u001b[0m: name 'spacy' is not defined"
          ]
        },
        {
          "output_type": "stream",
          "text": [
            "\n",
            "\u001b[93m    Linking successful\u001b[0m\n",
            "    /usr/local/lib/python3.6/dist-packages/en_core_web_md -->\n",
            "    /usr/local/lib/python3.6/dist-packages/spacy/data/en_core_web_md\n",
            "\n",
            "    You can now load the model via spacy.load('en_core_web_md')\n",
            "\n"
          ],
          "name": "stdout"
        }
      ]
    },
    {
      "cell_type": "code",
      "metadata": {
        "id": "zrik4StJdcVC",
        "outputId": "b99c573e-d73a-4562-c360-67182f9b05ac",
        "colab": {
          "base_uri": "https://localhost:8080/",
          "height": 867
        }
      },
      "source": [
        "#Let's see the vector representation for animal owl\n",
        "print(nlp.vocab['owl'].vector)"
      ],
      "execution_count": null,
      "outputs": [
        {
          "output_type": "stream",
          "text": [
            "[ 0.40641   -0.69749   -0.61673    0.17692   -0.4331     0.084098\n",
            " -0.18423   -0.20872   -0.47402    0.47836   -1.0684    -0.87516\n",
            " -0.29629   -0.54196   -0.077793   0.23342   -0.061199   0.48682\n",
            "  0.047634  -0.36098   -0.36126   -0.0055791 -0.2188     0.23936\n",
            " -0.3891    -0.23301   -0.27076   -0.12548    0.23601   -0.36737\n",
            " -0.39697    0.1082    -0.0071139  0.17347   -0.16082    0.48394\n",
            "  0.43559   -0.40283   -0.55777    0.13231    0.0083927  0.29885\n",
            " -0.38124    0.03058    0.3157    -0.41699   -0.39864    0.33175\n",
            "  0.22139   -0.018437  -0.57488    0.13442   -0.08367    0.024509\n",
            " -0.21605   -0.13897   -0.34784    0.33085    0.2873    -0.069875\n",
            " -0.038594  -0.033208   0.052659  -0.2184     0.15421   -0.20865\n",
            "  0.17904    0.33727   -0.082835  -0.51049   -0.38226   -0.65695\n",
            " -0.21676    0.13706   -0.10764    0.53006   -0.85868    0.28389\n",
            " -0.71046   -0.20697    0.061032   0.40096    0.80146    0.4016\n",
            "  0.13091   -0.081978   1.2395     0.43736    0.4013     0.3714\n",
            " -0.061512   0.14722   -0.06643   -0.38205    0.041015   0.10857\n",
            " -0.60619    0.12001    0.055117  -0.11825   -0.39505   -0.076539\n",
            " -0.4735     0.084561  -0.22979   -0.70913    0.10086   -0.081155\n",
            "  0.21771    0.43134    0.055691   0.37452    0.30788   -0.12501\n",
            "  0.45814    0.17202   -0.14146    0.25805    0.39074    0.3579\n",
            "  0.18263   -0.62081    0.89533   -0.32445   -0.54689   -0.11295\n",
            "  0.2745    -0.081777  -0.79233   -0.11852   -0.15302   -0.73889\n",
            "  0.23151    0.15777    0.071011  -0.25292   -0.13855    0.034388\n",
            "  0.55218    0.32734   -2.2112     0.67312   -0.30414    0.21596\n",
            "  0.16407    0.24393    0.061085  -0.11527    0.43634   -0.21992\n",
            " -0.2799     0.16002   -0.87419    0.0861     0.032175  -0.11132\n",
            "  0.034622  -0.30411    0.45087   -0.073759   0.38408    0.3136\n",
            " -0.21106   -0.66619    0.14763    0.094079  -0.28788   -0.47953\n",
            "  0.028525   0.10792    0.11545    0.27156    0.19462    0.30777\n",
            " -0.60477   -0.13247    0.97711   -0.14766   -0.10021   -0.39943\n",
            " -0.34001   -0.12589    0.49608    0.097769  -0.11523    0.099054\n",
            " -0.37808   -0.051472   0.57589   -0.084467  -0.022856  -0.0062592\n",
            " -0.27952   -0.26641    0.61518   -0.03067    0.27886    0.11903\n",
            "  0.66309   -0.26734   -0.32088    0.23694   -0.50399    0.47309\n",
            "  0.6356    -0.17995    0.066429  -0.053875   0.14834   -0.33967\n",
            "  0.24039    0.21076   -0.19167   -0.68252    0.23913   -0.13456\n",
            " -0.38082    0.53365   -0.02752   -0.078593   0.65724   -0.39187\n",
            "  0.045555   0.081139  -0.095516   1.0744     0.10111    0.4379\n",
            "  0.19314    0.30648    0.030796   0.16787   -0.56087    0.33292\n",
            "  0.35642    0.0058927 -0.19562   -0.24082    0.68123   -0.49479\n",
            " -0.25754    0.45872    0.059496   0.15864    0.36712   -0.17339\n",
            "  0.1764     0.50821    0.092449  -0.52328   -0.06523    0.013441\n",
            " -0.14579    0.50592    0.05672   -0.6245     0.11585    0.16494\n",
            "  0.43809    0.0035748 -0.051897   0.16385    0.30854   -0.3455\n",
            "  0.66065    0.16139    0.057026  -0.31329    0.082853  -0.30507\n",
            " -0.9098     0.30168   -0.13318   -0.010788   0.66425   -0.052546\n",
            " -0.44369    0.59588    0.087706  -0.40937    0.26245    0.07489\n",
            " -0.39609   -0.36269    0.12619   -0.061851   0.38498    0.092663\n",
            " -0.23981    0.0062777 -0.3017     0.63612    0.18918    0.2566\n",
            "  0.1458     0.43631   -0.019755   0.61689   -0.029156   0.2505   ]\n"
          ],
          "name": "stdout"
        }
      ]
    },
    {
      "cell_type": "code",
      "metadata": {
        "id": "6XcYBKQtg0Ay",
        "outputId": "5362bccb-8cef-43b8-90f1-9902d0238927",
        "colab": {
          "base_uri": "https://localhost:8080/",
          "height": 85
        }
      },
      "source": [
        "##############################\n",
        "#    2.1 Word Similarity     #\n",
        "##############################\n",
        "#let's check the word similarity using word vector\n",
        "owl = nlp.vocab['owl']\n",
        "animal = nlp.vocab['animal']\n",
        "bird = nlp.vocab['bird']\n",
        "dog = nlp.vocab['dog']\n",
        "beer = nlp.vocab['beer']\n",
        "\n",
        "print(owl.similarity(dog))\n",
        "print(owl.similarity(bird))\n",
        "print(owl.similarity(animal))\n",
        "print(owl.similarity(beer))"
      ],
      "execution_count": null,
      "outputs": [
        {
          "output_type": "stream",
          "text": [
            "0.34509116\n",
            "0.68081826\n",
            "0.43495154\n",
            "0.15504883\n"
          ],
          "name": "stdout"
        }
      ]
    },
    {
      "cell_type": "code",
      "metadata": {
        "id": "rUHNL1QkhdkO",
        "outputId": "95cc6067-d599-4c12-e1a9-38cc268f6087",
        "colab": {
          "base_uri": "https://localhost:8080/",
          "height": 51
        }
      },
      "source": [
        "##############################\n",
        "#    2.2 Text Similarity     #\n",
        "##############################\n",
        "#similarity on entire text\n",
        "target = nlp(\"Owls are cute animals.\")\n",
        " \n",
        "doc1 = nlp(\"Dogs are awesome.\")\n",
        "doc2 = nlp(\"Beer is good for health\")\n",
        " \n",
        "print(target.similarity(doc1))  \n",
        "print(target.similarity(doc2))  \n",
        " "
      ],
      "execution_count": null,
      "outputs": [
        {
          "output_type": "stream",
          "text": [
            "0.8230835522848599\n",
            "0.5483213567722299\n"
          ],
          "name": "stdout"
        }
      ]
    },
    {
      "cell_type": "code",
      "metadata": {
        "id": "vK6xXBsgqK8D",
        "outputId": "771cb832-9189-4038-c31b-86e5610b401f",
        "colab": {
          "base_uri": "https://localhost:8080/",
          "height": 34
        }
      },
      "source": [
        "#######################################################\n",
        "#    2.3 Mathematics of Computational Linguistics     #\n",
        "#######################################################\n",
        "# man-woman+queen = king\n",
        "from scipy import spatial\n",
        " \n",
        "cosine_similarity = lambda x, y: 1 - spatial.distance.cosine(x, y)\n",
        " \n",
        "man = nlp.vocab['man'].vector\n",
        "woman = nlp.vocab['woman'].vector\n",
        "queen = nlp.vocab['queen'].vector\n",
        " \n",
        "# We now need to find the closest vector in the vocabulary to the result of \"man\" - \"woman\" + \"queen\"\n",
        "maybe_king = man - woman + queen\n",
        "computed_similarities = []\n",
        " \n",
        "for word in nlp.vocab:\n",
        "    # Ignore words without vectors\n",
        "    if not word.has_vector:\n",
        "        continue\n",
        " \n",
        "    similarity = cosine_similarity(maybe_king, word.vector)\n",
        "    computed_similarities.append((word, similarity))\n",
        "\n",
        "computed_similarities = sorted(computed_similarities, key=lambda item: -item[1])\n",
        "print([w[0].text for w in computed_similarities[:10]])"
      ],
      "execution_count": null,
      "outputs": [
        {
          "output_type": "stream",
          "text": [
            "['Queen', 'QUEEN', 'queen', 'King', 'KING', 'king', 'KIng', 'MAHARAJAS', 'maharajas', 'Kings']\n"
          ],
          "name": "stdout"
        }
      ]
    },
    {
      "cell_type": "markdown",
      "metadata": {
        "id": "jy3N_nf8Xqdh"
      },
      "source": [
        "# TSNE Visualisation\n",
        "\n",
        "T-distributed Stochastic Neighbor Embedding (t-SNE) is a machine learning algorithm for visualization. It is a nonlinear dimensionality reduction technique well-suited for embedding high-dimensional data for visualization in a low-dimensional space of two or three dimensions.\n",
        "\n",
        "[PCA vs T-SNE](https://stats.stackexchange.com/questions/238538/are-there-cases-where-pca-is-more-suitable-than-t-sne/249520#249520)\n"
      ]
    },
    {
      "cell_type": "code",
      "metadata": {
        "id": "CzkPGxJtyp9f"
      },
      "source": [
        "###########################################\n",
        "#    2.4 Word Embedding visualisation     #\n",
        "###########################################\n",
        "import numpy as np\n",
        "from sklearn.manifold import TSNE\n",
        "import matplotlib.pyplot as plt\n",
        "\n",
        "def most_similar(word, amount):\n",
        "    \"\"\" This method will give you a list of the most similar words towards input word\n",
        "        Args:\n",
        "            word (str): query word\n",
        "            amount (int): the amount of similar words you would like to get\n",
        "\n",
        "        Returns:\n",
        "            similar words(list): list of spaCy Lexeme\n",
        "    \"\"\"\n",
        "    queries = [w for w in word.vocab if w.is_lower == word.is_lower and w.prob >= -15]\n",
        "    by_similarity = sorted(queries, key=lambda w: word.similarity(w), reverse=True)\n",
        "    return by_similarity[:amount]\n",
        "  \n",
        "def plot_similar_words(model, word, amount):\n",
        "    \"\"\" This method will plot the similar words' vectors into a feature space using T-SNE projection\n",
        "        Args:\n",
        "            model: nlp model\n",
        "            word (str): query word\n",
        "            amount (int): the amount of similar words you would like to project\n",
        "    \"\"\"\n",
        "    arr = np.empty((0,300), dtype='f')\n",
        "    word_labels = [word]\n",
        "\n",
        "    # get similar words\n",
        "    close_words = most_similar(model.vocab[word],amount)\n",
        "    \n",
        "    \n",
        "    # add the vector for each of the closest words to the array\n",
        "    arr = np.append(arr, np.array([model.vocab[word].vector]), axis=0)\n",
        "    for close_word in close_words:     \n",
        "        word_vector = [model.vocab[close_word.text].vector]\n",
        "        word_labels.append(close_word.text)\n",
        "        arr = np.append(arr, np.array(word_vector), axis=0)\n",
        "    # find tsne coords for 2 dimensions\n",
        "    tsne = TSNE(n_components=2, random_state=0)\n",
        "    np.set_printoptions(suppress=True)\n",
        "    Y = tsne.fit_transform(arr)\n",
        "\n",
        "    x_coords = Y[:, 0]\n",
        "    y_coords = Y[:, 1]\n",
        "    # display scatter plot\n",
        "    plt.scatter(x_coords, y_coords)\n",
        "\n",
        "    for label, x, y in zip(word_labels, x_coords, y_coords):\n",
        "        plt.annotate(label, xy=(x, y), xytext=(0, 0), textcoords='offset points')\n",
        "    plt.xlim(x_coords.min()+0.00005, x_coords.max()+0.00005)\n",
        "    plt.ylim(y_coords.min()+0.00005, y_coords.max()+0.00005)\n",
        "    plt.show()"
      ],
      "execution_count": null,
      "outputs": []
    },
    {
      "cell_type": "code",
      "metadata": {
        "id": "405kubBzyzDi",
        "outputId": "f8fc6daa-9aff-4874-d226-cf62047b2717",
        "colab": {
          "base_uri": "https://localhost:8080/",
          "height": 356
        }
      },
      "source": [
        "plot_similar_words(nlp, \"owl\",100)"
      ],
      "execution_count": null,
      "outputs": [
        {
          "output_type": "display_data",
          "data": {
            "image/png": "[encoded data removed]",
            "text/plain": [
              "<matplotlib.figure.Figure at 0x7f44404325f8>"
            ]
          },
          "metadata": {
            "tags": []
          }
        }
      ]
    },
    {
      "cell_type": "markdown",
      "metadata": {
        "id": "jIuGy3vjCDBt"
      },
      "source": [
        "# Challenge\n",
        "## Intent Classification (happy or angry?)\n",
        "In this challenge, you will get some training data which includes some sentences and its label (0 as happy and 1 as angry). By using spacy, you should be able to generate numeric vector for each sentence as feature vector, and you can train your classifier with it. Test it on your data and tell me what is your f-score.\n",
        "\n",
        "![alt text](https://lh3.googleusercontent.com/o1fI2h5WZCWE5EtiVqiuU0NN8iO7__QrEqNWytw9HOqBvH188IGegelJYZNfWe-CPI6F3NB-lrc5H_Gf_gBE7qLiuPvGndgHNOxsKyCbWm61A7R2yIKVg9qyJFmAW0W1VZpGii-PWyX0omPpu2VedWH227HJ9AU26x3zkLGF7zaUNyUfxiOfg-e3aqv2gUIdas-loigfh54pZAP4MnJT3ktpU6qUiM-3utVlptOiv8htnyi7JTHg20wpO9as6CYxrHroj5A9xnhWWw9eiiOtEjyM-PCIHGTbzwFQG50FHvGh0Q27neZqynHXgLhxYcD9HXG8HoauPPGEjecGIMRSFMe_FoylpY5pnwA4kbCsMN-Hgg9HvEUzY3gGW3w31snHQKrgo2St-d8t0R_0IEeUrawljZGf_0Xqo323pMJWbzWleZ7ufNUw9YDX-LZN3H_TH5FWSkql0W051eYOW5kzB1TU44MkfiZvAx5LCC3wdyLe0qxVQzddTUlT7l0TXa86Lc3GkNAo5Du9CifE9LCArN-TkUSaIIcIhLHaRlNapgX_7aLMXGzc_FyDP3eeOISl0Kyz2kCWKA7vIGaTojgJDgQf8qEBatLp4y7NOTRHh3HKFBwkiCWA2QDj4ATSDT0=w1496-h436-no)"
      ]
    },
    {
      "cell_type": "code",
      "metadata": {
        "id": "Vvf3dGfKtl4p"
      },
      "source": [
        "#load NLP model\n",
        "#nlp = spacy.load('en_core_web_lg')"
      ],
      "execution_count": null,
      "outputs": []
    },
    {
      "cell_type": "code",
      "metadata": {
        "id": "zdh64TJutmyP"
      },
      "source": [
        "#label: 0 as happy and 1 as angry\n",
        "labels = [0, 1]\n",
        "intents = [\"happy\", \"angry\"]\n",
        "\n",
        "\n",
        "#train data\n",
        "TRAIN_DATA = [\n",
        "    (\"I hate you\", 1),\n",
        "    (\"I want to kill you.\", 1),\n",
        "    (\"I am so happy about this workshop\", 0),\n",
        "    (\"Don't talk to me again.\", 1),\n",
        "    (\"I like it.\", 0),\n",
        "    (\"I am going\", 1),\n",
        "    (\"This is a shitty service.\", 1),\n",
        "    (\"You help me a lot.\",0),\n",
        "    (\"This is so crappy.\", 1),\n",
        "    (\"you are an angel\",0),\n",
        "    (\"you safe my life\",0),\n",
        "    (\"I love you\",0),\n",
        "    (\"You are useless\",1),\n",
        "    (\"don't talk to me ever again\",1),\n",
        "    (\"who do you think you are?\",1),\n",
        "    (\"You are the best!\",0),\n",
        "    (\"you are the best thing happen in my life\",0),\n",
        "    (\"I really appreciate it\",0),\n",
        "    (\"you are so bad at this.\",1),\n",
        "    (\"you are just awesome\",0),\n",
        "    (\"That is not what I am saying!\",1),\n",
        "    (\"you should quit your job!\",1),\n",
        "    (\"you are full of crap\",1),\n",
        "    (\"I freakin love you\",0),\n",
        "    (\"shut up\",1),\n",
        "    (\"you suck at this!\",1)   \n",
        "]\n",
        "\n",
        "#test data\n",
        "TEST_DATA = [(\"I don't like it\",1),\n",
        "             (\"you are a piece of shit\",1), \n",
        "             (\"Thank you for your help.\", 0),\n",
        "             (\"you didn't help me at all\", 1),\n",
        "            (\"It is very helpful\",0),\n",
        "            (\"Next time, try harder\",1 ),\n",
        "            (\"we require something different\", 1),\n",
        "            (\"you are the worse!\",1),\n",
        "             (\"you know a lot\",0),\n",
        "             (\"now I know what to do\",0),\n",
        "             (\"you are amazing\",0),\n",
        "             (\"you are too stupid!\",1)\n",
        "            ]"
      ],
      "execution_count": null,
      "outputs": []
    },
    {
      "cell_type": "code",
      "metadata": {
        "id": "xGngIyVRB99W"
      },
      "source": [
        "# Use NLP model to create vector representations,\n",
        "# and prepare x_train, x_test, y_train, y_test\n",
        "X_train = []\n",
        "Y_train = []  \n",
        "X_test = []\n",
        "Y_test = []\n",
        "\n",
        "for data in TRAIN_DATA:  \n",
        "  X_train.append(nlp(data[0]).vector)\n",
        "  Y_train.append(data[1])\n",
        "  \n",
        "for data in TEST_DATA:  \n",
        "  X_test.append(nlp(data[0]).vector)\n",
        "  Y_test.append(data[1])\n"
      ],
      "execution_count": null,
      "outputs": []
    },
    {
      "cell_type": "markdown",
      "metadata": {
        "id": "TPZ6YMJECg9B"
      },
      "source": [
        "Now it's your turn!"
      ]
    },
    {
      "cell_type": "code",
      "metadata": {
        "id": "jjZqr6Iat0mK",
        "outputId": "ad06d314-8ab0-4ac6-ada2-9ffd71abae41",
        "colab": {
          "base_uri": "https://localhost:8080/",
          "height": 452
        }
      },
      "source": [
        "#Now you should try your classification method (train and test)\n",
        "#Feel free to remind yourself from the previous sessions\n",
        "#https://tinyurl.com/machinelearning-intro-1 (svm, clustering)\n",
        "#https://tinyurl.com/machinelearning-intro-2 (logistic regression, neural networks)\n",
        "\n",
        "import sklearn\n",
        "from sklearn import metrics\n",
        "\n",
        "#1. Import your classifier\n",
        "from sklearn import your_classifier\n",
        "\n",
        "#2. Initialize your classifier\n",
        "your_classifier = your_classifier(...)\n",
        "\n",
        "#3. train your classifier\n",
        "your_classifier.fit(X_train, Y_train)\n",
        "\n",
        "#4. test your classifier\n",
        "predicted = your_classifier.predict(X_test)\n",
        "\n",
        "#5. Print out your result and high five with us!\n",
        "print(metrics.classification_report(Y_test, predicted))"
      ],
      "execution_count": null,
      "outputs": [
        {
          "output_type": "error",
          "ename": "ImportError",
          "evalue": "ignored",
          "traceback": [
            "\u001b[0;31m---------------------------------------------------------------------------\u001b[0m",
            "\u001b[0;31mImportError\u001b[0m                               Traceback (most recent call last)",
            "\u001b[0;32m<ipython-input-19-fe998e9ed70f>\u001b[0m in \u001b[0;36m<module>\u001b[0;34m()\u001b[0m\n\u001b[1;32m      4\u001b[0m \u001b[0;34m\u001b[0m\u001b[0m\n\u001b[1;32m      5\u001b[0m \u001b[0;31m#1. Import your classifier\u001b[0m\u001b[0;34m\u001b[0m\u001b[0;34m\u001b[0m\u001b[0;34m\u001b[0m\u001b[0m\n\u001b[0;32m----> 6\u001b[0;31m \u001b[0;32mfrom\u001b[0m \u001b[0msklearn\u001b[0m \u001b[0;32mimport\u001b[0m \u001b[0myour_classifier\u001b[0m\u001b[0;34m\u001b[0m\u001b[0;34m\u001b[0m\u001b[0m\n\u001b[0m\u001b[1;32m      7\u001b[0m \u001b[0;34m\u001b[0m\u001b[0m\n\u001b[1;32m      8\u001b[0m \u001b[0;31m#2. Initialize your classifier\u001b[0m\u001b[0;34m\u001b[0m\u001b[0;34m\u001b[0m\u001b[0;34m\u001b[0m\u001b[0m\n",
            "\u001b[0;31mImportError\u001b[0m: cannot import name 'your_classifier'",
            "",
            "\u001b[0;31m---------------------------------------------------------------------------\u001b[0;32m\nNOTE: If your import is failing due to a missing package, you can\nmanually install dependencies using either !pip or !apt.\n\nTo view examples of installing some common dependencies, click the\n\"Open Examples\" button below.\n\u001b[0;31m---------------------------------------------------------------------------\u001b[0m\n"
          ]
        }
      ]
    },
    {
      "cell_type": "code",
      "metadata": {
        "id": "sRj-gBhcGx02"
      },
      "source": [
        "#Example using support vector machine and evaluate\n",
        "#Import SVM\n",
        "from sklearn import svm\n",
        "from sklearn import metrics\n",
        "svc_model = svm.SVC(gamma=0.001, C=100., kernel='linear')\n",
        "\n",
        "# Fit the data to the SVC model\n",
        "svc_model.fit(X_train, Y_train)\n",
        "\n",
        "predicted = svc_model.predict(X_test)\n",
        "print(metrics.classification_report(Y_test, predicted))\n",
        "\n"
      ],
      "execution_count": null,
      "outputs": []
    },
    {
      "cell_type": "code",
      "metadata": {
        "id": "8C2J9DiNnyzF"
      },
      "source": [
        "#print out the text and prediction\n",
        "text_and_predictions = list(zip(TEST_DATA, predicted))\n",
        "for index, (text, prediction) in enumerate(text_and_predictions):\n",
        "  print(text, \" prediction: \", intents[prediction])"
      ],
      "execution_count": null,
      "outputs": []
    },
    {
      "cell_type": "code",
      "metadata": {
        "id": "DvPNsrvlG3pZ"
      },
      "source": [
        "#print out the text and prediction which is wrongly classified\n",
        "text_and_predictions_wrong = [j for i, j in enumerate(text_and_predictions) if j[1] != Y_test[i]]\n",
        "for index, (text, prediction) in enumerate(text_and_predictions_wrong):\n",
        "  print(text, \" prediction: \", intents[prediction])"
      ],
      "execution_count": null,
      "outputs": []
    },
    {
      "cell_type": "markdown",
      "metadata": {
        "id": "hU7IaKfCMg9Y"
      },
      "source": [
        "# Conclusion\n",
        "You just finished the third and last ML workshop in this series! Congrates!\n",
        "\n",
        "\n",
        "To wrap up,\n",
        "- In the first workshop, we went through fundamental machine learning concepts and techniques. We did coding exercises with basic classifiers on MNIST dataset using scikit learn, which covers most of the ML tasks and easy to scale and prototype your project with.\n",
        "\n",
        "\n",
        "- In the second workshop, we went through key parameters of neural networks. We also did classification tasks and compare the result between logistic regression, fully connected neural network and a convolutional neural network using Keras.\n",
        "\n",
        "- In this workshop, we covered the topic of how machine learning helps with natural language processing domain. We played around with Part of Speech Tagging, Named Entity Recognition and Word Embeddings using spaCy. We also did a challenge, which is to classify intent based on sentences.\n",
        "\n",
        "I hope after these three workshops, you have a good understanding of each of the technique, and you know where and how to start if you would like to dig deeper, especially into coding.\n",
        "\n",
        "\n",
        "# Your feedback:\n",
        "As we are considering to organize similar workshop again and we always want to do better. Please let us know your thoughts on this workshop with the following feedback form. Thank you.\n",
        "\n",
        "\n",
        "[feedback form](https://docs.google.com/forms/d/e/1FAIpQLSeR3a-h3hDYpi9YyzVVXjYltN_pI-JQlww1WBQfdQBTD0M-SQ/viewform?usp=sf_link)"
      ]
    }
  ]
}
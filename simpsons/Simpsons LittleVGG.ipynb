{
 "cells": [
  {
   "cell_type": "code",
   "execution_count": 11,
   "metadata": {},
   "outputs": [],
   "source": [
    "import keras\n",
    "from tensorflow.keras.preprocessing.image import ImageDataGenerator\n",
    "from tensorflow.keras.models import Sequential\n",
    "from tensorflow.keras.layers import Dense, Dropout, Activation, Flatten, BatchNormalization, Conv2D, MaxPooling2D\n",
    "from tensorflow.keras.activations import elu"
   ]
  },
  {
   "cell_type": "code",
   "execution_count": 3,
   "metadata": {},
   "outputs": [],
   "source": [
    "num_classes = 20\n",
    "img_rows, img_cols = 32, 32\n",
    "batch_size = 16\n",
    "\n",
    "train_dir = \"simpsons/train/\"\n",
    "validation_dir = \"simpsons/validation/\""
   ]
  },
  {
   "cell_type": "code",
   "execution_count": 4,
   "metadata": {},
   "outputs": [],
   "source": [
    "train_datagen = ImageDataGenerator(rescale=1./255, rotation_range=30, width_shift_range=0.3, height_shift_range=0.3, \n",
    "                                   horizontal_flip=True, fill_mode=\"nearest\")\n",
    "validation_datagen = ImageDataGenerator(rescale=1./255)"
   ]
  },
  {
   "cell_type": "code",
   "execution_count": 5,
   "metadata": {},
   "outputs": [
    {
     "name": "stdout",
     "output_type": "stream",
     "text": [
      "Found 19548 images belonging to 20 classes.\n",
      "Found 990 images belonging to 20 classes.\n"
     ]
    }
   ],
   "source": [
    "train_generator = train_datagen.flow_from_directory(train_dir, target_size=(img_cols, img_rows), batch_size=batch_size,\n",
    "                                                   class_mode=\"categorical\")\n",
    "validation_generator = validation_datagen.flow_from_directory(validation_dir, target_size=(img_cols, img_rows), \n",
    "                                                              batch_size=batch_size, class_mode=\"categorical\")"
   ]
  },
  {
   "cell_type": "code",
   "execution_count": 16,
   "metadata": {},
   "outputs": [],
   "source": [
    "model = Sequential()\n",
    "\n",
    "model.add(Conv2D(64, (3,3), padding=\"same\", input_shape=(img_cols, img_rows, 3)))\n",
    "model.add(Activation(\"relu\"))\n",
    "model.add(BatchNormalization())\n",
    "\n",
    "model.add(Conv2D(64, (3, 3), padding=\"same\"))\n",
    "model.add(Activation(\"relu\"))\n",
    "model.add(BatchNormalization())\n",
    "\n",
    "model.add(MaxPooling2D(pool_size=(2, 2)))\n",
    "model.add(Dropout(0.2))\n",
    "\n",
    "model.add(Conv2D(128, (3, 3), padding=\"same\"))\n",
    "model.add(Activation(\"relu\"))\n",
    "model.add(BatchNormalization())\n",
    "\n",
    "model.add(Conv2D(128, (3, 3), padding=\"same\"))\n",
    "model.add(Activation(\"relu\"))\n",
    "model.add(BatchNormalization())\n",
    "\n",
    "model.add(MaxPooling2D(pool_size=(2, 2)))\n",
    "model.add(Dropout(0.2))\n",
    "\n",
    "\n",
    "model.add(Conv2D(256, (3, 3), padding=\"same\"))\n",
    "model.add(Activation(\"relu\"))\n",
    "model.add(BatchNormalization())\n",
    "\n",
    "model.add(Conv2D(256, (3, 3), padding=\"same\"))\n",
    "model.add(Activation(\"relu\"))\n",
    "model.add(BatchNormalization())\n",
    "\n",
    "model.add(MaxPooling2D(pool_size=(2, 2)))\n",
    "model.add(Dropout(0.2))\n",
    "\n",
    "\n",
    "model.add(Flatten())\n",
    "model.add(Dense(256))\n",
    "model.add(Activation(\"relu\"))\n",
    "model.add(BatchNormalization())\n",
    "model.add(Dropout(0.5))\n",
    "\n",
    "model.add(Flatten())\n",
    "model.add(Dense(256))\n",
    "model.add(Activation(\"relu\"))\n",
    "model.add(BatchNormalization())\n",
    "model.add(Dropout(0.5))\n",
    "\n",
    "\n",
    "\n",
    "model.add(Dense(num_classes))\n",
    "model.add(Activation(\"softmax\"))"
   ]
  },
  {
   "cell_type": "code",
   "execution_count": 17,
   "metadata": {},
   "outputs": [
    {
     "name": "stdout",
     "output_type": "stream",
     "text": [
      "Model: \"sequential_2\"\n",
      "_________________________________________________________________\n",
      "Layer (type)                 Output Shape              Param #   \n",
      "=================================================================\n",
      "conv2d_12 (Conv2D)           (None, 32, 32, 64)        1792      \n",
      "_________________________________________________________________\n",
      "activation_18 (Activation)   (None, 32, 32, 64)        0         \n",
      "_________________________________________________________________\n",
      "batch_normalization_16 (Batc (None, 32, 32, 64)        256       \n",
      "_________________________________________________________________\n",
      "conv2d_13 (Conv2D)           (None, 32, 32, 64)        36928     \n",
      "_________________________________________________________________\n",
      "activation_19 (Activation)   (None, 32, 32, 64)        0         \n",
      "_________________________________________________________________\n",
      "batch_normalization_17 (Batc (None, 32, 32, 64)        256       \n",
      "_________________________________________________________________\n",
      "max_pooling2d_6 (MaxPooling2 (None, 16, 16, 64)        0         \n",
      "_________________________________________________________________\n",
      "dropout_10 (Dropout)         (None, 16, 16, 64)        0         \n",
      "_________________________________________________________________\n",
      "conv2d_14 (Conv2D)           (None, 16, 16, 128)       73856     \n",
      "_________________________________________________________________\n",
      "activation_20 (Activation)   (None, 16, 16, 128)       0         \n",
      "_________________________________________________________________\n",
      "batch_normalization_18 (Batc (None, 16, 16, 128)       512       \n",
      "_________________________________________________________________\n",
      "conv2d_15 (Conv2D)           (None, 16, 16, 128)       147584    \n",
      "_________________________________________________________________\n",
      "activation_21 (Activation)   (None, 16, 16, 128)       0         \n",
      "_________________________________________________________________\n",
      "batch_normalization_19 (Batc (None, 16, 16, 128)       512       \n",
      "_________________________________________________________________\n",
      "max_pooling2d_7 (MaxPooling2 (None, 8, 8, 128)         0         \n",
      "_________________________________________________________________\n",
      "dropout_11 (Dropout)         (None, 8, 8, 128)         0         \n",
      "_________________________________________________________________\n",
      "conv2d_16 (Conv2D)           (None, 8, 8, 256)         295168    \n",
      "_________________________________________________________________\n",
      "activation_22 (Activation)   (None, 8, 8, 256)         0         \n",
      "_________________________________________________________________\n",
      "batch_normalization_20 (Batc (None, 8, 8, 256)         1024      \n",
      "_________________________________________________________________\n",
      "conv2d_17 (Conv2D)           (None, 8, 8, 256)         590080    \n",
      "_________________________________________________________________\n",
      "activation_23 (Activation)   (None, 8, 8, 256)         0         \n",
      "_________________________________________________________________\n",
      "batch_normalization_21 (Batc (None, 8, 8, 256)         1024      \n",
      "_________________________________________________________________\n",
      "max_pooling2d_8 (MaxPooling2 (None, 4, 4, 256)         0         \n",
      "_________________________________________________________________\n",
      "dropout_12 (Dropout)         (None, 4, 4, 256)         0         \n",
      "_________________________________________________________________\n",
      "flatten_4 (Flatten)          (None, 4096)              0         \n",
      "_________________________________________________________________\n",
      "dense_6 (Dense)              (None, 256)               1048832   \n",
      "_________________________________________________________________\n",
      "activation_24 (Activation)   (None, 256)               0         \n",
      "_________________________________________________________________\n",
      "batch_normalization_22 (Batc (None, 256)               1024      \n",
      "_________________________________________________________________\n",
      "dropout_13 (Dropout)         (None, 256)               0         \n",
      "_________________________________________________________________\n",
      "flatten_5 (Flatten)          (None, 256)               0         \n",
      "_________________________________________________________________\n",
      "dense_7 (Dense)              (None, 256)               65792     \n",
      "_________________________________________________________________\n",
      "activation_25 (Activation)   (None, 256)               0         \n",
      "_________________________________________________________________\n",
      "batch_normalization_23 (Batc (None, 256)               1024      \n",
      "_________________________________________________________________\n",
      "dropout_14 (Dropout)         (None, 256)               0         \n",
      "_________________________________________________________________\n",
      "dense_8 (Dense)              (None, 20)                5140      \n",
      "_________________________________________________________________\n",
      "activation_26 (Activation)   (None, 20)                0         \n",
      "=================================================================\n",
      "Total params: 2,270,804\n",
      "Trainable params: 2,267,988\n",
      "Non-trainable params: 2,816\n",
      "_________________________________________________________________\n"
     ]
    }
   ],
   "source": [
    "model.summary()"
   ]
  },
  {
   "cell_type": "code",
   "execution_count": 22,
   "metadata": {},
   "outputs": [],
   "source": [
    "from tensorflow.keras.optimizers import RMSprop, SGD, Adam\n",
    "from tensorflow.keras.callbacks import ModelCheckpoint, EarlyStopping, ReduceLROnPlateau"
   ]
  },
  {
   "cell_type": "code",
   "execution_count": 23,
   "metadata": {},
   "outputs": [],
   "source": [
    "checkpoint = ModelCheckpoint(\"little_vgg.h5\", monitor=\"val_loss\", mode=\"min\", save_best_only=True, verbose=1)\n",
    "\n",
    "early_stop = EarlyStopping(monitor=\"val_loss\", patience=3, min_delta=0, verbose=1, restore_best_weights=True)\n",
    "\n",
    "reduce_lr = ReduceLROnPlateau(monitor=\"val_loss\", factor=0.2, patience=3, verbose=1, min_delta=0.00001)\n",
    "\n",
    "callbacks = [checkpoint, early_stop, reduce_lr]"
   ]
  },
  {
   "cell_type": "code",
   "execution_count": 24,
   "metadata": {},
   "outputs": [],
   "source": [
    "model.compile(loss=\"categorical_crossentropy\", optimizer=Adam(learning_rate=0.01), metrics=[\"accuracy\"])"
   ]
  },
  {
   "cell_type": "code",
   "execution_count": 25,
   "metadata": {},
   "outputs": [],
   "source": [
    "nb_train_samples = 19548\n",
    "nb_val_samples = 990\n",
    "epochs = 10"
   ]
  },
  {
   "cell_type": "code",
   "execution_count": 26,
   "metadata": {},
   "outputs": [
    {
     "name": "stdout",
     "output_type": "stream",
     "text": [
      "WARNING:tensorflow:From <ipython-input-26-3463ccd44e81>:3: Model.fit_generator (from tensorflow.python.keras.engine.training) is deprecated and will be removed in a future version.\n",
      "Instructions for updating:\n",
      "Please use Model.fit, which supports generators.\n",
      "Epoch 1/10\n",
      "1221/1221 [==============================] - ETA: 0s - loss: 2.8565 - accuracy: 0.1595\n",
      "Epoch 00001: val_loss improved from inf to 2.93807, saving model to little_vgg.h5\n",
      "1221/1221 [==============================] - 512s 419ms/step - loss: 2.8565 - accuracy: 0.1595 - val_loss: 2.9381 - val_accuracy: 0.1660\n",
      "Epoch 2/10\n",
      "1221/1221 [==============================] - ETA: 0s - loss: 2.4263 - accuracy: 0.2537\n",
      "Epoch 00002: val_loss improved from 2.93807 to 2.68045, saving model to little_vgg.h5\n",
      "1221/1221 [==============================] - 350s 286ms/step - loss: 2.4263 - accuracy: 0.2537 - val_loss: 2.6804 - val_accuracy: 0.2182\n",
      "Epoch 3/10\n",
      "1221/1221 [==============================] - ETA: 0s - loss: 2.2507 - accuracy: 0.3040\n",
      "Epoch 00003: val_loss improved from 2.68045 to 1.97896, saving model to little_vgg.h5\n",
      "1221/1221 [==============================] - 311s 254ms/step - loss: 2.2507 - accuracy: 0.3040 - val_loss: 1.9790 - val_accuracy: 0.3904\n",
      "Epoch 4/10\n",
      "1221/1221 [==============================] - ETA: 0s - loss: 2.0499 - accuracy: 0.3745\n",
      "Epoch 00004: val_loss did not improve from 1.97896\n",
      "1221/1221 [==============================] - 307s 252ms/step - loss: 2.0499 - accuracy: 0.3745 - val_loss: 3.1335 - val_accuracy: 0.2920\n",
      "Epoch 5/10\n",
      "1221/1221 [==============================] - ETA: 0s - loss: 1.7840 - accuracy: 0.4596\n",
      "Epoch 00005: val_loss improved from 1.97896 to 1.91979, saving model to little_vgg.h5\n",
      "1221/1221 [==============================] - 307s 252ms/step - loss: 1.7840 - accuracy: 0.4596 - val_loss: 1.9198 - val_accuracy: 0.4662\n",
      "Epoch 6/10\n",
      "1221/1221 [==============================] - ETA: 0s - loss: 1.5566 - accuracy: 0.5341\n",
      "Epoch 00006: val_loss improved from 1.91979 to 1.31354, saving model to little_vgg.h5\n",
      "1221/1221 [==============================] - 309s 253ms/step - loss: 1.5566 - accuracy: 0.5341 - val_loss: 1.3135 - val_accuracy: 0.5768\n",
      "Epoch 7/10\n",
      "1221/1221 [==============================] - ETA: 0s - loss: 1.4720 - accuracy: 0.5626\n",
      "Epoch 00007: val_loss improved from 1.31354 to 0.96503, saving model to little_vgg.h5\n",
      "1221/1221 [==============================] - 373s 306ms/step - loss: 1.4720 - accuracy: 0.5626 - val_loss: 0.9650 - val_accuracy: 0.6732\n",
      "Epoch 8/10\n",
      "1221/1221 [==============================] - ETA: 0s - loss: 1.2882 - accuracy: 0.6208\n",
      "Epoch 00008: val_loss did not improve from 0.96503\n",
      "1221/1221 [==============================] - 400s 328ms/step - loss: 1.2882 - accuracy: 0.6208 - val_loss: 1.6371 - val_accuracy: 0.7008\n",
      "Epoch 9/10\n",
      "1221/1221 [==============================] - ETA: 0s - loss: 1.1940 - accuracy: 0.6587\n",
      "Epoch 00009: val_loss improved from 0.96503 to 0.76586, saving model to little_vgg.h5\n",
      "1221/1221 [==============================] - 438s 359ms/step - loss: 1.1940 - accuracy: 0.6587 - val_loss: 0.7659 - val_accuracy: 0.8043\n",
      "Epoch 10/10\n",
      "1221/1221 [==============================] - ETA: 0s - loss: 1.1629 - accuracy: 0.6669\n",
      "Epoch 00010: val_loss improved from 0.76586 to 0.63559, saving model to little_vgg.h5\n",
      "1221/1221 [==============================] - 482s 395ms/step - loss: 1.1629 - accuracy: 0.6669 - val_loss: 0.6356 - val_accuracy: 0.8238\n"
     ]
    }
   ],
   "source": [
    "history = model.fit_generator(train_generator, steps_per_epoch=nb_train_samples//batch_size, epochs=epochs, \n",
    "                              callbacks=callbacks,\n",
    "                             validation_data=validation_generator, validation_steps=nb_val_samples//batch_size)"
   ]
  },
  {
   "cell_type": "code",
   "execution_count": 27,
   "metadata": {},
   "outputs": [
    {
     "name": "stderr",
     "output_type": "stream",
     "text": [
      "C:\\Users\\agamm\\Anaconda3\\lib\\importlib\\_bootstrap.py:219: RuntimeWarning: numpy.ufunc size changed, may indicate binary incompatibility. Expected 192 from C header, got 216 from PyObject\n",
      "  return f(*args, **kwds)\n",
      "C:\\Users\\agamm\\Anaconda3\\lib\\importlib\\_bootstrap.py:219: RuntimeWarning: numpy.ufunc size changed, may indicate binary incompatibility. Expected 192 from C header, got 216 from PyObject\n",
      "  return f(*args, **kwds)\n",
      "C:\\Users\\agamm\\Anaconda3\\lib\\importlib\\_bootstrap.py:219: RuntimeWarning: numpy.ufunc size changed, may indicate binary incompatibility. Expected 192 from C header, got 216 from PyObject\n",
      "  return f(*args, **kwds)\n",
      "C:\\Users\\agamm\\Anaconda3\\lib\\importlib\\_bootstrap.py:219: RuntimeWarning: numpy.ufunc size changed, may indicate binary incompatibility. Expected 192 from C header, got 216 from PyObject\n",
      "  return f(*args, **kwds)\n"
     ]
    }
   ],
   "source": [
    "import matplotlib.pyplot as plt\n",
    "import sklearn\n",
    "from sklearn.metrics import classification_report, confusion_matrix"
   ]
  },
  {
   "cell_type": "code",
   "execution_count": 29,
   "metadata": {},
   "outputs": [
    {
     "name": "stdout",
     "output_type": "stream",
     "text": [
      "Found 990 images belonging to 20 classes.\n"
     ]
    }
   ],
   "source": [
    "validation_generator = validation_datagen.flow_from_directory(validation_dir, target_size=(img_rows, img_cols),\n",
    "                                                             batch_size=batch_size, class_mode=\"categorical\", \n",
    "                                                              shuffle=False)"
   ]
  },
  {
   "cell_type": "code",
   "execution_count": 31,
   "metadata": {},
   "outputs": [],
   "source": [
    "class_labels = validation_generator.class_indices\n",
    "class_labels = {v: k for k, v in class_labels.items()}\n",
    "classes = list(class_labels.values())"
   ]
  },
  {
   "cell_type": "code",
   "execution_count": 33,
   "metadata": {},
   "outputs": [],
   "source": [
    "import numpy as np\n",
    "Y_pred = model.predict_generator(validation_generator, nb_val_samples//batch_size+1)\n",
    "y_pred = np.argmax(Y_pred, axis=1)"
   ]
  },
  {
   "cell_type": "code",
   "execution_count": 34,
   "metadata": {},
   "outputs": [
    {
     "name": "stdout",
     "output_type": "stream",
     "text": [
      "[[32  0  0  0  0  0  1 12  0  0  2  1  0  0  0  0  0  0  0  0]\n",
      " [ 0 50  0  0  0  0  0  0  0  0  0  0  0  0  0  0  0  0  0  0]\n",
      " [ 0  1 36  0  1  0  0  1  0  0  0  6  1  2  0  0  2  0  0  0]\n",
      " [ 0  1  1 27  1  0  1  4  0  0  0  3  0  0  0  2  0  0  1  7]\n",
      " [ 0  2  0  0 45  0  0  0  0  0  0  0  0  0  0  3  0  0  0  0]\n",
      " [ 0  0  0  1  7 26  1  3  0  1  0  0  0  3  2  2  1  0  1  1]\n",
      " [ 0  2  1  0  0  0 38  0  1  0  0  0  1  0  0  0  4  0  1  2]\n",
      " [ 0  0  0  0  0  0  0 49  0  1  0  0  0  0  0  0  0  0  0  0]\n",
      " [ 0  0  0  0  0  0  0  0 42  2  2  2  0  1  0  1  0  0  0  0]\n",
      " [ 0  4  0  0  0  0  0  0  0 45  0  0  0  0  0  0  0  0  0  1]\n",
      " [ 0  0  0  0  0  0  0  5  0  0 40  0  0  0  0  0  4  0  0  1]\n",
      " [ 0  0  2  0  1  0  0  3  0  0  0 41  0  0  0  0  1  0  0  2]\n",
      " [ 0  1  0  0  0  0  0  0  0  0  1  0 46  0  2  0  0  0  0  0]\n",
      " [ 0  1  1  0  0  1  1  5  0  0  0  0  0 36  0  2  1  0  0  2]\n",
      " [ 0  1  0  0  0  0  0  0  0  0  0  1  1  1 45  0  0  0  0  0]\n",
      " [ 0  0  0  0  1  0  0  1  0  0  1  0  0  1  1 45  0  0  0  0]\n",
      " [ 0  0  0  1  1  0  0  1  0  0  0  0  0  0  0  0 46  0  0  0]\n",
      " [ 0  0  0  0  2  0  2  0  0  0  1  1  0  0  0  0  5 34  2  3]\n",
      " [ 0  0  0  0  1  0  0  1  0  0  0  0  0  0  0  1  0  0 47  0]\n",
      " [ 0  0  0  0  0  0  0  1  0  0  0  0  0  0  0  0  0  0  0 46]]\n"
     ]
    }
   ],
   "source": [
    "print(confusion_matrix(validation_generator.classes, y_pred))"
   ]
  },
  {
   "cell_type": "code",
   "execution_count": 35,
   "metadata": {},
   "outputs": [
    {
     "name": "stdout",
     "output_type": "stream",
     "text": [
      "                          precision    recall  f1-score   support\n",
      "\n",
      "  abraham_grampa_simpson       1.00      0.67      0.80        48\n",
      "  apu_nahasapeemapetilon       0.79      1.00      0.88        50\n",
      "            bart_simpson       0.88      0.72      0.79        50\n",
      "charles_montgomery_burns       0.93      0.56      0.70        48\n",
      "            chief_wiggum       0.75      0.90      0.82        50\n",
      "          comic_book_guy       0.96      0.53      0.68        49\n",
      "          edna_krabappel       0.86      0.76      0.81        50\n",
      "           homer_simpson       0.57      0.98      0.72        50\n",
      "           kent_brockman       0.98      0.84      0.90        50\n",
      "        krusty_the_clown       0.92      0.90      0.91        50\n",
      "           lenny_leonard       0.85      0.80      0.82        50\n",
      "            lisa_simpson       0.75      0.82      0.78        50\n",
      "           marge_simpson       0.94      0.92      0.93        50\n",
      "            mayor_quimby       0.82      0.72      0.77        50\n",
      "     milhouse_van_houten       0.90      0.92      0.91        49\n",
      "             moe_szyslak       0.80      0.90      0.85        50\n",
      "            ned_flanders       0.72      0.94      0.81        49\n",
      "            nelson_muntz       1.00      0.68      0.81        50\n",
      "       principal_skinner       0.90      0.94      0.92        50\n",
      "            sideshow_bob       0.71      0.98      0.82        47\n",
      "\n",
      "                accuracy                           0.82       990\n",
      "               macro avg       0.85      0.82      0.82       990\n",
      "            weighted avg       0.85      0.82      0.82       990\n",
      "\n"
     ]
    }
   ],
   "source": [
    "target_names = list(class_labels.values())\n",
    "print(classification_report(validation_generator.classes, y_pred, target_names=target_names))"
   ]
  },
  {
   "cell_type": "code",
   "execution_count": 36,
   "metadata": {},
   "outputs": [
    {
     "data": {
      "image/png": "[encoded data removed]",
      "text/plain": [
       "<Figure size 864x576 with 2 Axes>"
      ]
     },
     "metadata": {
      "needs_background": "light"
     },
     "output_type": "display_data"
    }
   ],
   "source": [
    "plt.figure(figsize=(12, 8))\n",
    "plt.imshow(confusion_matrix(validation_generator.classes, y_pred), interpolation=\"nearest\")\n",
    "tick_marks = np.arange(len(classes))\n",
    "plt.colorbar()\n",
    "_ = plt.xticks(tick_marks, classes, rotation=90)\n",
    "_ = plt.yticks(tick_marks, classes)"
   ]
  },
  {
   "cell_type": "code",
   "execution_count": null,
   "metadata": {},
   "outputs": [],
   "source": []
  },
  {
   "cell_type": "code",
   "execution_count": 41,
   "metadata": {},
   "outputs": [],
   "source": [
    "from tensorflow.keras.models import load_model"
   ]
  },
  {
   "cell_type": "code",
   "execution_count": 43,
   "metadata": {},
   "outputs": [],
   "source": [
    "classifier = load_model(\"little_vgg.h5\")"
   ]
  },
  {
   "cell_type": "code",
   "execution_count": null,
   "metadata": {},
   "outputs": [],
   "source": []
  }
 ],
 "metadata": {
  "kernelspec": {
   "display_name": "Python 3",
   "language": "python",
   "name": "python3"
  },
  "language_info": {
   "codemirror_mode": {
    "name": "ipython",
    "version": 3
   },
   "file_extension": ".py",
   "mimetype": "text/x-python",
   "name": "python",
   "nbconvert_exporter": "python",
   "pygments_lexer": "ipython3",
   "version": "3.7.7"
  }
 },
 "nbformat": 4,
 "nbformat_minor": 4
}
